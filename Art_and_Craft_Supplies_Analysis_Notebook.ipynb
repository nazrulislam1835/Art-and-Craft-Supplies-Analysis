{
  "cells": [
    {
      "cell_type": "markdown",
      "source": [
        "# **Step 1 : Import Section**"
      ],
      "metadata": {
        "id": "HFmKWMOf90gP"
      }
    },
    {
      "cell_type": "code",
      "source": [
        "import pandas as pd\n",
        "import numpy as np\n",
        "import matplotlib.pyplot as plt\n"
      ],
      "metadata": {
        "id": "76jcfirk8g6w"
      },
      "execution_count": null,
      "outputs": []
    },
    {
      "cell_type": "markdown",
      "source": [
        "# **Step-2 : Load the data**"
      ],
      "metadata": {
        "id": "vBxaw4_K9_kA"
      }
    },
    {
      "cell_type": "code",
      "source": [
        "df=pd.read_csv('dataset_1_Art and Craft Supplies.csv')\n",
        "\n",
        "output = [] #List to store output results\n",
        "output.append(\"Exploratory Data Analysis of Art and Craft Supplies.csv\\n\")\n",
        "output.append(\"=====================================\\n\")"
      ],
      "metadata": {
        "id": "I42UZ6tU_Y6_"
      },
      "execution_count": null,
      "outputs": []
    },
    {
      "cell_type": "markdown",
      "source": [
        "# **Step-3 : Explore the data**"
      ],
      "metadata": {
        "id": "E_Gt2_tQADN3"
      }
    },
    {
      "cell_type": "code",
      "source": [
        "print(df.head()) #Display the first few rows\n",
        "output.append(f\"first few rows:\\n{df.head()}\\n\")"
      ],
      "metadata": {
        "id": "h4AQZ5EQBDBA"
      },
      "execution_count": null,
      "outputs": []
    },
    {
      "cell_type": "code",
      "source": [
        "#Get basic information about the datase\n",
        "df.info()"
      ],
      "metadata": {
        "id": "6Yas_uDODNKO"
      },
      "execution_count": null,
      "outputs": []
    },
    {
      "cell_type": "code",
      "source": [
        "print(df.describe()) #Summary Statistics\n",
        "output.append(f\"Summary Statistics:\\n{df.describe()}\\n\")"
      ],
      "metadata": {
        "id": "wqgvcrWpEt-2"
      },
      "execution_count": null,
      "outputs": []
    },
    {
      "cell_type": "markdown",
      "source": [
        "# **Step-4 : Clean the data**"
      ],
      "metadata": {
        "id": "omC2_CirChsG"
      }
    },
    {
      "cell_type": "code",
      "source": [
        "output.append(\"Data cleaning results:\\n:\")"
      ],
      "metadata": {
        "id": "qcfRog58Ckql"
      },
      "execution_count": null,
      "outputs": []
    },
    {
      "cell_type": "code",
      "source": [
        "#Check for missing values.\n",
        "missing_values = df.isnull().sum()\n",
        "print(missing_values)\n",
        "output.append(f\"Missing values:\\n{missing_values}\\n\")"
      ],
      "metadata": {
        "id": "J_sdrd7uQMRC"
      },
      "execution_count": null,
      "outputs": []
    },
    {
      "cell_type": "code",
      "source": [
        "#fill or drop missing values as necessary\n",
        "df.dropna(inplace=True) #Drop rows with missing values"
      ],
      "metadata": {
        "id": "4MYvHO_TQJrS"
      },
      "execution_count": null,
      "outputs": []
    },
    {
      "cell_type": "code",
      "source": [
        "#Convert the date column to datetime format\n",
        "df['Date'] = pd.to_datetime(df['Date'])"
      ],
      "metadata": {
        "id": "7GjA1cRiQIBy"
      },
      "execution_count": null,
      "outputs": []
    },
    {
      "cell_type": "code",
      "source": [
        "#Check for duplicates\n",
        "duplicates = df.duplicated().sum()\n",
        "output.append(f\"Number of Duplicates Dropped {duplicates}\\n\")\n",
        "df.drop_duplicates(inplace=True) #Drop duplicate rows"
      ],
      "metadata": {
        "id": "xfkRz8gmJMsc"
      },
      "execution_count": null,
      "outputs": []
    },
    {
      "cell_type": "markdown",
      "source": [
        "# **Step-5 : Analyze the data**"
      ],
      "metadata": {
        "id": "JcPnQGFYClJl"
      }
    },
    {
      "cell_type": "code",
      "source": [
        "#Total revevnue from Art & Craft Supplies.\n",
        "total_revenue = df['Revenue'].sum()\n",
        "output.append(f'Total Revenue: ${total_revenue}\\n')\n",
        "print(f\"Total Revenue: ${total_revenue}\")"
      ],
      "metadata": {
        "id": "ZkSBCK1VCt5O"
      },
      "execution_count": null,
      "outputs": []
    },
    {
      "cell_type": "code",
      "source": [
        "#Average price per customer_Type wise\n",
        "average_price_per_service = df.groupby('Customer_Type')['Price'].mean()\n",
        "output.append(\"Average Price per Customer Type:\\n\")\n",
        "output.append(f\"{average_price_per_service}\\n\")\n",
        "print(average_price_per_service)"
      ],
      "metadata": {
        "id": "_kGMC_XMNygq"
      },
      "execution_count": null,
      "outputs": []
    },
    {
      "cell_type": "code",
      "source": [
        "#Total services provided by region\n",
        "total_services_by_region = df['Region'].value_counts()\n",
        "output.append(\"Total Services Provided by Region:\\n\")\n",
        "output.append(f\"{total_services_by_region}\\n\")\n",
        "print(total_services_by_region)"
      ],
      "metadata": {
        "id": "hFOt1i2IQDzy"
      },
      "execution_count": null,
      "outputs": []
    },
    {
      "cell_type": "code",
      "source": [
        "#Total revenue by ragion.\n",
        "revenue_by_region = df.groupby('Region')['Price'].sum()\n",
        "output.append(\"Total Revenue by Region:\\n\")\n",
        "output.append(f\"{revenue_by_region}\\n\")\n",
        "print(revenue_by_region)"
      ],
      "metadata": {
        "id": "tLqRu8-ySFCp"
      },
      "execution_count": null,
      "outputs": []
    },
    {
      "cell_type": "markdown",
      "source": [
        "# **Step-6 : Visualize the data**"
      ],
      "metadata": {
        "id": "_J5iEDk_QvJJ"
      }
    },
    {
      "cell_type": "code",
      "source": [
        "plt.figure(figsize=(10, 6))\n",
        "plt.bar(total_services_by_region.index, total_services_by_region.values)\n",
        "plt.title('Total Services Provided by Region')\n",
        "plt.xlabel('Region')\n",
        "plt.ylabel('Number of Services')\n",
        "plt.xticks(rotation=45)\n",
        "plt.savefig('total_services_by_region.png') #Save the figure\n",
        "plt.show()"
      ],
      "metadata": {
        "id": "JiQKwcIQQ8tI"
      },
      "execution_count": null,
      "outputs": []
    },
    {
      "cell_type": "code",
      "source": [
        "#pie chart for total services by region\n",
        "plt.figure(figsize=(8, 8))\n",
        "plt.pie(total_services_by_region.values, labels=total_services_by_region.index, autopct='%1.1f%%')\n",
        "plt.title('Destribution of Services by Region')\n",
        "plt.axis('equal') #Equal aspect ratio ensures that pie chart is circular\n",
        "plt.savefig('services_by_region_pie.png') #Save the figure\n",
        "plt.show()"
      ],
      "metadata": {
        "id": "5SoaHUlJVY_P"
      },
      "execution_count": null,
      "outputs": []
    },
    {
      "cell_type": "code",
      "source": [
        "#Bar plot of average price per service type\n",
        "plt.figure(figsize=(10, 6))\n",
        "plt.bar(average_price_per_service.index, average_price_per_service.values)\n",
        "plt.title('Average Price per service type')\n",
        "plt.xlabel('Service Type')\n",
        "plt.ylabel('Average Price')\n",
        "plt.xticks(rotation=45)\n",
        "plt.savefig('average_price_per_service.png') #Save the figure\n",
        "plt.show()"
      ],
      "metadata": {
        "id": "0ZiFm19TYRmH"
      },
      "execution_count": null,
      "outputs": []
    },
    {
      "cell_type": "code",
      "source": [
        "#pie chart of revenue by service type\n",
        "plt.figure(figsize=(8, 8))\n",
        "plt.pie(revenue_by_region.values, labels=revenue_by_region.index, autopct='%1.1f%%')\n",
        "plt.title('Revenue Distribution by Region')\n",
        "plt.axis('equal') #Equal aspect ratio ensures that pie chart is circular\n",
        "plt.savefig('revenue_distribution_by_region_pie.png') #Save the figure\n",
        "plt.show()"
      ],
      "metadata": {
        "id": "L0tFPWI2Zu5O"
      },
      "execution_count": null,
      "outputs": []
    },
    {
      "cell_type": "markdown",
      "source": [
        "# **Step-7 : Save output file**"
      ],
      "metadata": {
        "id": "foVnwt0icH2G"
      }
    },
    {
      "cell_type": "code",
      "source": [
        "with open('analysis_output.txt', 'w') as file:\n",
        "    file.writelines(output)"
      ],
      "metadata": {
        "id": "xA61jqZRcO50"
      },
      "execution_count": null,
      "outputs": []
    }
  ],
  "metadata": {
    "colab": {
      "provenance": [],
      "collapsed_sections": [
        "HFmKWMOf90gP",
        "vBxaw4_K9_kA",
        "E_Gt2_tQADN3",
        "omC2_CirChsG",
        "JcPnQGFYClJl",
        "_J5iEDk_QvJJ"
      ]
    },
    "kernelspec": {
      "display_name": "Python 3",
      "name": "python3"
    }
  },
  "nbformat": 4,
  "nbformat_minor": 0
}